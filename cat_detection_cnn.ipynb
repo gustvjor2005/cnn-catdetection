{
  "nbformat": 4,
  "nbformat_minor": 0,
  "metadata": {
    "colab": {
      "provenance": [],
      "machine_shape": "hm",
      "mount_file_id": "1wXJhLTWStqqsOTSDYXTwM_DI2Wmr0c9h",
      "authorship_tag": "ABX9TyNN/to2J0Ppg8pNzUEvP+Hq",
      "include_colab_link": true
    },
    "kernelspec": {
      "name": "python3",
      "display_name": "Python 3"
    },
    "language_info": {
      "name": "python"
    },
    "accelerator": "GPU",
    "gpuClass": "standard"
  },
  "cells": [
    {
      "cell_type": "markdown",
      "metadata": {
        "id": "view-in-github",
        "colab_type": "text"
      },
      "source": [
        "<a href=\"https://colab.research.google.com/github/gustvjor2005/cat-detection-cnn/blob/fullcomment/cat_detection_cnn.ipynb\" target=\"_parent\"><img src=\"https://colab.research.google.com/assets/colab-badge.svg\" alt=\"Open In Colab\"/></a>"
      ]
    },
    {
      "cell_type": "code",
      "execution_count": 1,
      "metadata": {
        "id": "H_hh0cGQzGSv"
      },
      "outputs": [],
      "source": [
        "import torch\n",
        "import torch.nn as nn\n",
        "import torch.optim as optim\n",
        "from torch.utils.data import Dataset, DataLoader\n",
        "import h5py\n",
        "import numpy as np\n",
        "\n",
        "torch.manual_seed(2)\n",
        "device = torch.device(\"cuda\" if torch.cuda.is_available() else \"cpu\")"
      ]
    },
    {
      "cell_type": "code",
      "source": [
        "#wget utilitario gnu para recupear documentos de forma no interactiva\n",
        "#soporta http, https y ftp | -O para recuperar con un nombre de archivo fijo \n",
        "#esto ayuda a sobreescribir cuando el archivo ya existe\n",
        "!cd sample_data && wget -O train_catvnoncat.h5 http://gchoque.de:8989/train_catvnoncat.h5\n",
        "!cd sample_data && wget -O test_catvnoncat.h5 http://gchoque.de:8989/test_catvnoncat.h5"
      ],
      "metadata": {
        "id": "qJig3YM_8DKy"
      },
      "execution_count": null,
      "outputs": []
    },
    {
      "cell_type": "code",
      "source": [
        "train_dataset = h5py.File(\"/content/sample_data/train_catvnoncat.h5\")\n",
        "test_dataset = h5py.File(\"/content/sample_data/test_catvnoncat.h5\")"
      ],
      "metadata": {
        "id": "-E36ikbo86CO"
      },
      "execution_count": 181,
      "outputs": []
    },
    {
      "cell_type": "code",
      "source": [
        "tr_x = np.array(train_dataset[\"train_set_x\"])\n",
        "tr_y = np.array(train_dataset[\"train_set_y\"])\n",
        "\n",
        "ts_x = np.array(test_dataset[\"test_set_x\"])\n",
        "ts_y = np.array(test_dataset[\"test_set_y\"])"
      ],
      "metadata": {
        "id": "HebRGq5S9L3F"
      },
      "execution_count": 182,
      "outputs": []
    },
    {
      "cell_type": "code",
      "source": [
        "import matplotlib.pyplot as plt\n",
        "#fig , ax = plt.subplots()\n",
        "plt.imshow(tr_x[0][:, :, 0])"
      ],
      "metadata": {
        "colab": {
          "base_uri": "https://localhost:8080/",
          "height": 285
        },
        "id": "IfYZ579oAoRc",
        "outputId": "c8738fe9-9343-45dc-c4be-2dbc4e579b3a"
      },
      "execution_count": 127,
      "outputs": [
        {
          "output_type": "execute_result",
          "data": {
            "text/plain": [
              "<matplotlib.image.AxesImage at 0x7fa69fd9d040>"
            ]
          },
          "metadata": {},
          "execution_count": 127
        },
        {
          "output_type": "display_data",
          "data": {
            "text/plain": [
              "<Figure size 432x288 with 1 Axes>"
            ],
            "image/png": "[encoded data removed]"
          },
          "metadata": {
            "needs_background": "light"
          }
        }
      ]
    },
    {
      "cell_type": "code",
      "source": [
        "\n",
        "def shapeImage(xx):\n",
        "\n",
        "  r = xx[0][:, :, 0]\n",
        "  b = xx[0][:, :, 2]\n",
        "  g = xx[0][:, :, 1]\n",
        "  rr = r.reshape((-1, 64, 64))\n",
        "  gg = g.reshape((-1, 64, 64))\n",
        "  bb = b.reshape((-1, 64, 64))\n",
        "  cc = np.append(rr, gg, axis=0)\n",
        "  c = np.append(cc, bb, axis=0)\n",
        "\n",
        "  for i in range(xx.shape[0]-1):\n",
        "    r = xx[i+1][:, :, 0]\n",
        "    g = xx[i+1][:, :, 1]\n",
        "    b = xx[i+1][:, :, 2]\n",
        "    rr = r.reshape((-1, 64, 64))\n",
        "    gg = g.reshape((-1, 64, 64))\n",
        "    bb = b.reshape((-1, 64, 64))\n",
        "    dd = np.append(rr, gg, axis=0)\n",
        "    d = np.append(dd, bb, axis=0)\n",
        "\n",
        "    z = np.append(c.reshape(-1, 3, 64, 64), d.reshape(-1, 3, 64, 64), axis=0)\n",
        "    c = z\n",
        "\n",
        "  return z"
      ],
      "metadata": {
        "id": "e8kbY92sfWGq"
      },
      "execution_count": 183,
      "outputs": []
    },
    {
      "cell_type": "code",
      "source": [
        "tr_xx = shapeImage(tr_x)/255\n",
        "ts_xx = shapeImage(ts_x)/255"
      ],
      "metadata": {
        "id": "HLEAZz_CMoUA"
      },
      "execution_count": 184,
      "outputs": []
    },
    {
      "cell_type": "code",
      "source": [
        "ts_xx.shape"
      ],
      "metadata": {
        "colab": {
          "base_uri": "https://localhost:8080/"
        },
        "id": "i66tl7xoPl2d",
        "outputId": "aa87c451-5228-4de3-f13a-ffe80adff0a0"
      },
      "execution_count": 185,
      "outputs": [
        {
          "output_type": "execute_result",
          "data": {
            "text/plain": [
              "(50, 3, 64, 64)"
            ]
          },
          "metadata": {},
          "execution_count": 185
        }
      ]
    },
    {
      "cell_type": "code",
      "source": [
        "plt.imshow(tr_x[0][:, :, 0])"
      ],
      "metadata": {
        "colab": {
          "base_uri": "https://localhost:8080/",
          "height": 285
        },
        "id": "kkRWWbvXfwpl",
        "outputId": "d96a3a70-bc55-4c5d-94d8-b7e2cd53676a"
      },
      "execution_count": 135,
      "outputs": [
        {
          "output_type": "execute_result",
          "data": {
            "text/plain": [
              "<matplotlib.image.AxesImage at 0x7fa69fb13640>"
            ]
          },
          "metadata": {},
          "execution_count": 135
        },
        {
          "output_type": "display_data",
          "data": {
            "text/plain": [
              "<Figure size 432x288 with 1 Axes>"
            ],
            "image/png": "[encoded data removed]"
          },
          "metadata": {
            "needs_background": "light"
          }
        }
      ]
    },
    {
      "cell_type": "code",
      "source": [
        "class Dataset(Dataset):\n",
        "\n",
        "  def __init__(self):\n",
        "    #self.x = torch.tensor(tr_x, dtype=torch.float).view(-1, 3, 64, 64)\n",
        "    self.x = torch.tensor(tr_xx, dtype=torch.float)\n",
        "    #self.y = torch.tensor(tr_y, dtype=torch.float).view(self.x.size()[0], 1)\n",
        "    self.y = torch.tensor(tr_y)\n",
        "    self.len = self.x.size()[0]\n",
        "\n",
        "  def __getitem__(self, index):\n",
        "    return self.x[index], self.y[index]\n",
        "\n",
        "  def __len__(self):\n",
        "    return self.len\n"
      ],
      "metadata": {
        "id": "zgo2pJ0BOW_g"
      },
      "execution_count": 186,
      "outputs": []
    },
    {
      "cell_type": "code",
      "source": [
        "class CNN(nn.Module):\n",
        "\n",
        "  def __init__(self, out_1=5, out_2=7):\n",
        "    super().__init__()\n",
        "    self.cnn1 = nn.Conv2d(in_channels=3, out_channels=out_1, kernel_size=5)\n",
        "    #l ->64 -5 + 1 = 60 | cnn1.weight.shape -> 5x3x5x5\n",
        "    self.maxpool1 = nn.MaxPool2d(kernel_size=2)\n",
        "    #l ->60/2 = 30\n",
        "    self.cnn2 = nn.Conv2d(in_channels=out_1, out_channels=out_2, kernel_size=5)\n",
        "    #l ->30 -5 +1 = 26 | cnn2.weight.shape -> 7x5x5x5\n",
        "    self.maxpool2 = nn.MaxPool2d(kernel_size=2)\n",
        "    #l ->26/2 = 13\n",
        "    self.fc1 = nn.Linear(out_2*13*13, 2)  # fc1.weight.shape -> 1x7*13*13\n",
        "\n",
        "  def forward(self, x):\n",
        "    x = self.cnn1(x)\n",
        "    #print('after cnn1', x.shape)\n",
        "    x = torch.relu(x) #activation function\n",
        "    #print('after relu', x.shape)\n",
        "    x = self.maxpool1(x)\n",
        "    #print('after maxpool1', x.shape)\n",
        "    x = self.cnn2(x)\n",
        "    #print('after cnn2', x.shape)\n",
        "    x = torch.relu(x) #activation function\n",
        "    #print('after relu', x.shape)\n",
        "    x = self.maxpool2(x)\n",
        "    #print('after maxpool2', x.shape)\n",
        "    x = x.view(x.size(0), -1)\n",
        "    #print('after size', x.shape)\n",
        "    x = self.fc1(x)\n",
        "    #print('after fc1', x)\n",
        "    #x = torch.sigmoid(x)\n",
        "    #print('after sigmoid', x)\n",
        "    return x"
      ],
      "metadata": {
        "id": "zhzUi77_-rkm"
      },
      "execution_count": 201,
      "outputs": []
    },
    {
      "cell_type": "code",
      "source": [
        "class CNN_2(nn.Module):\n",
        "\n",
        "  def __init__(self, out_1=5, out_2=7, out_3=9):\n",
        "    super().__init__()\n",
        "    self.cnn1 = nn.Conv2d(in_channels=3, out_channels=out_1, kernel_size=5)\n",
        "    #l ->64 -5 + 1 = 60 | cnn1.weight.shape -> 5x3x5x5\n",
        "    self.maxpool1 = nn.MaxPool2d(kernel_size=2)\n",
        "    #l ->60/2 = 30\n",
        "    self.cnn2 = nn.Conv2d(in_channels=out_1, out_channels=out_2, kernel_size=5)\n",
        "    #l ->30 -5 +1 = 26 | cnn2.weight.shape -> 7x5x5x5\n",
        "    self.maxpool2 = nn.MaxPool2d(kernel_size=2)\n",
        "    #l ->26/2 = 13\n",
        "    self.cnn3 = nn.Conv2d(in_channels=out_2, out_channels=out_3, kernel_size=8)\n",
        "    #l = 13 - 8 +1 =6 \n",
        "    self.maxpool3 = nn.MaxPool2d(kernel_size=2)\n",
        "    #l ->6/2 = 3\n",
        "    self.fc1 = nn.Linear(out_3*3*3, 2)  #\n",
        "\n",
        "  def forward(self, x):\n",
        "    x = self.cnn1(x)\n",
        "    #print('after cnn1', x.shape)\n",
        "    x = torch.relu(x) #activation function\n",
        "    #print('after relu', x.shape)\n",
        "    x = self.maxpool1(x)\n",
        "    #print('after maxpool1', x.shape)\n",
        "    x = self.cnn2(x)\n",
        "    #print('after cnn2', x.shape)\n",
        "    x = torch.relu(x) #activation function\n",
        "    #print('after relu', x.shape)\n",
        "    x = self.maxpool2(x)\n",
        "    #print('after maxpool2', x.shape)\n",
        "    \n",
        "    #print('after size', x.shape)\n",
        "    x = self.cnn3(x)\n",
        "    x = torch.relu(x)\n",
        "    x = self.maxpool3(x)\n",
        "    x = x.view(x.size(0), -1)\n",
        "    x = self.fc1(x)\n",
        "    #print('after fc1', x)\n",
        "    x = torch.sigmoid(x)\n",
        "    #print('after sigmoid', x)\n",
        "    return x"
      ],
      "metadata": {
        "id": "RjhmqyGkR32q"
      },
      "execution_count": 202,
      "outputs": []
    },
    {
      "cell_type": "code",
      "source": [
        "class CNN_3(nn.Module):\n",
        "\n",
        "  def __init__(self, out_1=5, out_2=7):\n",
        "    super().__init__()\n",
        "    self.cnn1 = nn.Conv2d(in_channels=3, out_channels=out_1, kernel_size=15)\n",
        "    #l ->64 -15 + 1 = 50 | cnn1.weight.shape -> 5x3x15x15\n",
        "    self.maxpool1 = nn.MaxPool2d(kernel_size=2)\n",
        "    #l ->50/2 = 25\n",
        "    self.cnn2 = nn.Conv2d(in_channels=out_1, out_channels=out_2, kernel_size=16)\n",
        "    #l ->25 -16 +1 = 10 | cnn2.weight.shape -> 7x5x16x16\n",
        "    self.maxpool2 = nn.MaxPool2d(kernel_size=2)\n",
        "    #l ->10/2 = 5\n",
        "    self.fc1 = nn.Linear(out_2*5*5, 2)  # fc1.weight.shape -> 1x7x5x5\n",
        "\n",
        "  def forward(self, x):\n",
        "    x = self.cnn1(x)\n",
        "    #print('after cnn1', x.shape)\n",
        "    x = torch.relu(x) #activation function\n",
        "    #print('after relu', x.shape)\n",
        "    x = self.maxpool1(x)\n",
        "    #print('after maxpool1', x.shape)\n",
        "    x = self.cnn2(x)\n",
        "    #print('after cnn2', x.shape)\n",
        "    x = torch.relu(x) #activation function\n",
        "    #print('after relu', x.shape)\n",
        "    x = self.maxpool2(x)\n",
        "    #print('after maxpool2', x.shape)\n",
        "    x = x.view(x.size(0), -1)\n",
        "    #print('after size', x.shape)\n",
        "    x = self.fc1(x)\n",
        "    #print('after fc1', x)\n",
        "    #x = torch.sigmoid(x)\n",
        "    #print('after sigmoid', x)\n",
        "    return x"
      ],
      "metadata": {
        "id": "ylX-BOqZYi3i"
      },
      "execution_count": 223,
      "outputs": []
    },
    {
      "cell_type": "code",
      "source": [
        "model = CNN_3(out_1=5, out_2=7)\n",
        "model.state_dict()['fc1.weight'].shape"
      ],
      "metadata": {
        "colab": {
          "base_uri": "https://localhost:8080/"
        },
        "id": "Nc2RFejWJ2Ge",
        "outputId": "256a21ef-943e-4c66-ceb2-64d8e9e3d36a"
      },
      "execution_count": 224,
      "outputs": [
        {
          "output_type": "execute_result",
          "data": {
            "text/plain": [
              "torch.Size([2, 175])"
            ]
          },
          "metadata": {},
          "execution_count": 224
        }
      ]
    },
    {
      "cell_type": "code",
      "source": [
        "tr_dataset = Dataset()\n",
        "\n",
        "tr_dataloader = DataLoader(dataset=tr_dataset, batch_size=30)\n",
        "criterion = nn.CrossEntropyLoss()\n",
        "optimizer = optim.SGD(model.parameters(), lr=.01)\n"
      ],
      "metadata": {
        "id": "fxoCM0L7QaMS"
      },
      "execution_count": 225,
      "outputs": []
    },
    {
      "cell_type": "code",
      "source": [
        "epochs = 3\n",
        "losses = []\n",
        "accs = []\n",
        "\n",
        "\n",
        "for i in range(epochs):\n",
        "  total = 0\n",
        "  model.train()\n",
        "  model.to(device)\n",
        "  for x, y in tr_dataloader:\n",
        "    x, y = x.to(device), y.to(device)\n",
        "    yhat = model(x)\n",
        "    loss = criterion(yhat, y)\n",
        "    optimizer.zero_grad()\n",
        "    loss.backward()\n",
        "    optimizer.step()\n",
        "    total += loss.item()\n",
        "\n",
        "  acc = 0\n",
        "  model.eval()\n",
        "  model.to('cpu')\n",
        "  val = torch.tensor(ts_xx, dtype=torch.float)\n",
        "  for x, y in zip(val, ts_y):\n",
        "    pred = model(x.view(1, 3, 64, 64))\n",
        "    print(pred)\n",
        "    if (pred.argmax().item() == y):\n",
        "      acc +=1\n",
        "  losses.append(total)\n",
        "  accs.append(acc)\n",
        "  #print(acc/ts_xx.size(0)*100)"
      ],
      "metadata": {
        "id": "lJDbz2bJOMt6"
      },
      "execution_count": null,
      "outputs": []
    },
    {
      "cell_type": "code",
      "source": [
        "import matplotlib.pyplot as plt\n",
        "\n",
        "plt.plot(losses)\n",
        "plt.show()"
      ],
      "metadata": {
        "colab": {
          "base_uri": "https://localhost:8080/",
          "height": 265
        },
        "id": "27-hLuqtXzO8",
        "outputId": "5544102b-40d4-4374-8147-d82a6ff7d455"
      },
      "execution_count": 227,
      "outputs": [
        {
          "output_type": "display_data",
          "data": {
            "text/plain": [
              "<Figure size 432x288 with 1 Axes>"
            ],
            "image/png": "[encoded data removed]"
          },
          "metadata": {
            "needs_background": "light"
          }
        }
      ]
    },
    {
      "cell_type": "code",
      "source": [
        "plt.plot(accs)\n",
        "plt.show()"
      ],
      "metadata": {
        "colab": {
          "base_uri": "https://localhost:8080/",
          "height": 265
        },
        "id": "nMccSMBMnsCs",
        "outputId": "91a6539b-02ee-4f59-a6d6-462181f2f697"
      },
      "execution_count": 228,
      "outputs": [
        {
          "output_type": "display_data",
          "data": {
            "text/plain": [
              "<Figure size 432x288 with 1 Axes>"
            ],
            "image/png": "[encoded data removed]"
          },
          "metadata": {
            "needs_background": "light"
          }
        }
      ]
    },
    {
      "cell_type": "code",
      "source": [
        "import PIL.Image as img"
      ],
      "metadata": {
        "id": "7Dph9sA7b4_B"
      },
      "execution_count": 240,
      "outputs": []
    },
    {
      "cell_type": "code",
      "source": [
        "!cd sample_data && wget -O cat1.png http://gchoque.de:8989/cat2.png"
      ],
      "metadata": {
        "colab": {
          "base_uri": "https://localhost:8080/"
        },
        "id": "oo-OJvYNcB5B",
        "outputId": "334a2e21-5333-471f-8432-d97c7595dcbb"
      },
      "execution_count": 255,
      "outputs": [
        {
          "output_type": "stream",
          "name": "stdout",
          "text": [
            "--2023-03-16 22:21:45--  http://gchoque.de:8989/cat2.png\n",
            "Resolving gchoque.de (gchoque.de)... 15.229.12.247\n",
            "Connecting to gchoque.de (gchoque.de)|15.229.12.247|:8989... connected.\n",
            "HTTP request sent, awaiting response... 200 OK\n",
            "Length: 9834 (9.6K) [image/png]\n",
            "Saving to: ‘cat1.png’\n",
            "\n",
            "cat1.png            100%[===================>]   9.60K  --.-KB/s    in 0s      \n",
            "\n",
            "2023-03-16 22:21:45 (156 MB/s) - ‘cat1.png’ saved [9834/9834]\n",
            "\n"
          ]
        }
      ]
    },
    {
      "cell_type": "code",
      "source": [
        "img_o = img.open(\"/content/sample_data/cat1.png\")\n",
        "\n",
        "img_n = np.asarray(img_o)\n",
        "img_n.shape\n",
        "#img_s = img_n.reshape(3, 64, 64)\n"
      ],
      "metadata": {
        "colab": {
          "base_uri": "https://localhost:8080/"
        },
        "id": "IyHII8xSePZy",
        "outputId": "510846ce-59dc-4b75-e90f-b9b056ed10c7"
      },
      "execution_count": 256,
      "outputs": [
        {
          "output_type": "execute_result",
          "data": {
            "text/plain": [
              "(64, 64, 4)"
            ]
          },
          "metadata": {},
          "execution_count": 256
        }
      ]
    },
    {
      "cell_type": "code",
      "source": [
        "r = img_n[:, :, 0].reshape(-1, 64, 64)\n",
        "g = img_n[:, :, 1].reshape(-1, 64, 64)\n",
        "b = img_n[:, :, 2].reshape(-1, 64, 64)\n",
        "\n",
        "img_s = np.append(r, g, axis=0)\n",
        "img_s = np.append(img_s, b, axis=0)\n",
        "\n",
        "z = img_n[:, :, 0:3]\n",
        "\n",
        "z.shape"
      ],
      "metadata": {
        "colab": {
          "base_uri": "https://localhost:8080/"
        },
        "id": "prp4AytPhrTN",
        "outputId": "f860fb32-ab79-4d17-b2ec-558cc5dc76c9"
      },
      "execution_count": 270,
      "outputs": [
        {
          "output_type": "execute_result",
          "data": {
            "text/plain": [
              "(64, 64, 3)"
            ]
          },
          "metadata": {},
          "execution_count": 270
        }
      ]
    },
    {
      "cell_type": "code",
      "source": [
        "data_test = np.array([z,z])\n",
        "data_test.shape"
      ],
      "metadata": {
        "colab": {
          "base_uri": "https://localhost:8080/"
        },
        "id": "K0TDifWYj5hE",
        "outputId": "b20a32a2-7e8b-49e9-9ffa-852351e9d4d2"
      },
      "execution_count": 273,
      "outputs": [
        {
          "output_type": "execute_result",
          "data": {
            "text/plain": [
              "(2, 64, 64, 3)"
            ]
          },
          "metadata": {},
          "execution_count": 273
        }
      ]
    },
    {
      "cell_type": "code",
      "source": [
        "tr_zz = shapeImage(data_test)/255"
      ],
      "metadata": {
        "id": "mBaUipWPkJH0"
      },
      "execution_count": 274,
      "outputs": []
    },
    {
      "cell_type": "code",
      "source": [
        "tr_zz.shape"
      ],
      "metadata": {
        "colab": {
          "base_uri": "https://localhost:8080/"
        },
        "id": "J8dBFaeUkMeL",
        "outputId": "b4ae91c3-ff1f-4f95-d08a-6e0f1714d890"
      },
      "execution_count": 275,
      "outputs": [
        {
          "output_type": "execute_result",
          "data": {
            "text/plain": [
              "(2, 3, 64, 64)"
            ]
          },
          "metadata": {},
          "execution_count": 275
        }
      ]
    },
    {
      "cell_type": "code",
      "source": [
        "plt.imshow(z)"
      ],
      "metadata": {
        "colab": {
          "base_uri": "https://localhost:8080/",
          "height": 285
        },
        "id": "Hu9DYj-JetX9",
        "outputId": "6ec6ea1b-d4c7-4afe-fecd-4a31ee57b410"
      },
      "execution_count": 271,
      "outputs": [
        {
          "output_type": "execute_result",
          "data": {
            "text/plain": [
              "<matplotlib.image.AxesImage at 0x7fa69f0c7280>"
            ]
          },
          "metadata": {},
          "execution_count": 271
        },
        {
          "output_type": "display_data",
          "data": {
            "text/plain": [
              "<Figure size 432x288 with 1 Axes>"
            ],
            "image/png": "[encoded data removed]"
          },
          "metadata": {
            "needs_background": "light"
          }
        }
      ]
    },
    {
      "cell_type": "code",
      "source": [
        "pred = model(torch.tensor(tr_zz,dtype=torch.float))"
      ],
      "metadata": {
        "id": "NbMrQ4fnjR3V"
      },
      "execution_count": 279,
      "outputs": []
    },
    {
      "cell_type": "code",
      "source": [
        "pred"
      ],
      "metadata": {
        "colab": {
          "base_uri": "https://localhost:8080/"
        },
        "id": "RTBkIhIXknzx",
        "outputId": "403fc98f-0441-405f-eb36-c2c3f359d708"
      },
      "execution_count": 280,
      "outputs": [
        {
          "output_type": "execute_result",
          "data": {
            "text/plain": [
              "tensor([[-2.1045,  3.3893],\n",
              "        [-2.1045,  3.3893]], grad_fn=<AddmmBackward0>)"
            ]
          },
          "metadata": {},
          "execution_count": 280
        }
      ]
    }
  ]
}